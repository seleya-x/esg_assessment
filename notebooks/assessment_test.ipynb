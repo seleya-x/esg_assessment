{
 "cells": [
  {
   "cell_type": "code",
   "execution_count": 3,
   "id": "062d2d2d-872c-4a62-903f-7c9f4211920c",
   "metadata": {},
   "outputs": [],
   "source": [
    "import os\n",
    "import json\n",
    "import openai\n",
    "import dotenv\n",
    "import pandas as pd\n",
    "\n",
    "dotenv.load_dotenv(\"../src/.env\")\n",
    "\n",
    "endpoint = os.environ.get(\"OPENAI_API_ENDPOINT\")\n",
    "api_key = os.environ.get(\"OPENAI_API_KEY\")\n",
    "api_version = os.environ.get(\"OPENAI_API_VERSION\")\n",
    "api_type = os.environ.get(\"OPENAI_API_TYPE\")\n",
    "\n",
    "\n",
    "def llm_parser(chat_type:str, \n",
    "               documents:str, \n",
    "               time:str=None, \n",
    "               company_name:str=None, \n",
    "               document_title:str=None,\n",
    "               llm_model:str=\"gpt-35-turbo\"):\n",
    "\n",
    "    if chat_type == \"title_extraction\":\n",
    "        instruction = \"The following is a document written by a company. The document is written in markdown format. Please provide the title of the document.Please output the above answer with the JSON format:{\\\"title\\\":\\\"xxxx\\\"}\"\n",
    "    \n",
    "        messages = [\n",
    "            {\n",
    "                \"role\": \"system\",\n",
    "                \"content\": \"You are an artificial intelligence assistant, and you are better at Chinese and English conversations. You will provide users with safe, helpful, and accurate answers. At the same time, you will reject all answers related to terrorism, racial discrimination, yellow violence, and other issues.\",\n",
    "            },\n",
    "            {\n",
    "                \"role\": \"user\", \n",
    "                \"content\": instruction},\n",
    "        ]\n",
    "\n",
    "    elif chat_type == \"assessment\":\n",
    "        # time = \"2022\"\n",
    "        # company_name = \"Westpac Banking Corp\"\n",
    "        # document_title = \"Sustainability Supplement 2022 - Westpac Group\"\n",
    "\n",
    "        # instruction = \"The following is a document written by a company. The document is written in markdown format. \\\n",
    "        #         \\nThe ESG report title of %s for %s is \\\"%s\\\". Please refer to the above information to read the current document and answer the following questions: \\\n",
    "        #             \\n\\t1. What is the title of the current document? \\\n",
    "        #             \\n\\t2. Regardless of time, Check the similarity of the giving title and the current document title, with a total score of 10 points, with 0 being the lowest and 10 being the highest. \\\n",
    "        #             \\n\\t3. Rate the degree of overlap between the current document and the given title. The total score is 10 points, with 0 being the lowest and 10 being the highest. \\\n",
    "        #             \\n\\t4. Please determine whether the current document is the original ESG report of %s based on the similarity of the title and the content of the document? If so, please output the report body and report date of the document. If not, it is not necessary to output. Please note that the report date refers to the financial reporting period, not the publication date of the document. \\\n",
    "        #         \\nPlease output the above answer results in JSON format. Do not use markdown syntax for output results.\\\n",
    "        #         \\nYou can refer to the following output examples: \\\n",
    "        #                 \\n\\t1）{\\\"title\\\": \\\"xxx\\\", \\\"title_similarity\\\": 10, \\\"similarity\\\": 10, \\\"is_ESG\\\": \\\"yes\\\", \\\"company\\\": \\\"xxxx\\\", \\\"financial_report_time\\\": \\\"xxxx\\\"} \\\n",
    "        #                 \\n\\t2）{\\\"title\\\": \\\"xxx\\\", \\\"title_similarity\\\": 3, \\\"similarity\\\": 2, \\\"is_ESG\\\": \\\"no\\\"} \\\n",
    "        #         \\n\\nThe detailed content of the document is as follows: \\n\\n%s\" % (time, company_name, document_title, company_name, documents)        \n",
    "\n",
    "        # instruction = \"The ESG report title of %s for %s is \\\"%s\\\". Please refer to the above information to read the current document and answer the following questions: \\\n",
    "        #             \\n\\t1. What is the title of the current document? \\\n",
    "        #             \\n\\t2. Regardless of time, Check the similarity of the giving title and the current document title, with a total score of 10 points, with 0 being the lowest and 10 being the highest. \\\n",
    "        #             \\n\\t3. Rate the degree of overlap between the current document and the given title. The total score is 10 points, with 0 being the lowest and 10 being the highest. \\\n",
    "        #             \\n\\t4. Please determine whether the current document is the original ESG report of %s based on the similarity of the title and the content of the document? If so, please output the report body and report date of the document. If not, it is not necessary to output. Please note that the report date refers to the financial reporting period, not the publication date of the document. \\\n",
    "        #         \\nPlease output the above answer results in JSON format. \\\n",
    "        #         \\nYou can refer to the following output examples: \\\n",
    "        #                 \\n\\t1）{\\\"title\\\": \\\"xxx\\\", \\\"title_similarity\\\": 10, \\\"similarity\\\": 10, \\\"is_ESG\\\": \\\"yes\\\", \\\"company\\\": \\\"xxxx\\\", \\\"financial_report_time\\\": \\\"xxxx\\\"} \\\n",
    "        #                 \\n\\t2）{\\\"title\\\": \\\"xxx\\\", \\\"title_similarity\\\": 3, \\\"similarity\\\": 2, \\\"is_ESG\\\": \\\"no\\\"} \\\n",
    "        #         \\nPlease Do not use markdown syntax for output results.\" % (time, company_name, document_title, company_name)\n",
    "        \n",
    "        instruction = \"The ESG report title of %s for %s is \\\"%s\\\". Please refer to the above information to read the current document and answer the following questions: \\\n",
    "                        \\n\\t1. What is the title of the current document? \\\n",
    "                        \\n\\t2. Regardless of time, Check the similarity of the giving title and the current document title, with a total score of 10 points, with 0 being the lowest and 10 being the highest. \\\n",
    "                        \\n\\t3. Rate the degree of overlap between the current document and the given title. The total score is 10 points, with 0 being the lowest and 10 being the highest. \\\n",
    "                        \\n\\t4. Based on the similarity between the current document title and the ESG report title for the %s of %s as well as the content of the current document, \\\n",
    "                            infer that  whether the ESG report framework used in the current document is consistent with the ESG report framework for the %s of %s? \\\n",
    "                            If so, please output the corporate entity and fiscal year of the document. If not, it is not necessary to output. \\\n",
    "                    \\nPlease output the above answer results in JSON format. \\\n",
    "                    \\nYou can refer to the following output examples: \\\n",
    "                            \\n\\t1）{\\\"title\\\": \\\"xxx\\\", \\\"title_similarity\\\": 10, \\\"similarity\\\": 10, \\\"is_ESG\\\": \\\"yes\\\", \\\"corporate_entity\\\": \\\"xxxx\\\", \\\"fiscal_year\\\": \\\"xxxx\\\"} \\\n",
    "                            \\n\\t2）{\\\"title\\\": \\\"xxx\\\", \\\"title_similarity\\\": 3, \\\"similarity\\\": 2, \\\"is_ESG\\\": \\\"no\\\"} \\\n",
    "                    \\nPlease Do not use markdown syntax for output results.\" % (time, company_name, document_title, time ,company_name, time, company_name)\n",
    "        \n",
    "        instruction = \"The ESG report title of %s for %s is \\\"%s\\\". Please refer to the above information to read the current document and answer the following questions: \\\n",
    "                        \\n\\t1. What is the title of the current document? \\\n",
    "                        \\n\\t2. Ignore the time in the title and give a similarity score between the given title and the current document title. The total score is 10 points, with 0 being the lowest and 10 being the highest. \\\n",
    "                        \\n\\t3. Ignore the time factor and rate the overlap between the current document and the provided title? The total score is 10 points, with 0 being the lowest and 10 being the highest. \\\n",
    "                        \\n\\t4. Based on the similarity between the current document title and the ESG report title for the %s of %s as well as the content of the current document, \\\n",
    "                            infer that  whether the ESG report framework used in the current document is consistent with the ESG report framework for the %s of %s? \\\n",
    "                            If so, please output the corporate entity and fiscal year of the document. If not, it is not necessary to output. \\\n",
    "                    \\nPlease output the above answer results in JSON format. \\\n",
    "                    \\nYou can refer to the following output examples: \\\n",
    "                            \\n\\t1）{\\\"title\\\": \\\"xxx\\\", \\\"title_similarity\\\": 10, \\\"similarity\\\": 10, \\\"is_ESG\\\": \\\"yes\\\", \\\"corporate_entity\\\": \\\"xxxx\\\", \\\"fiscal_year\\\": \\\"xxxx\\\"} \\\n",
    "                            \\n\\t2）{\\\"title\\\": \\\"xxx\\\", \\\"title_similarity\\\": 3, \\\"similarity\\\": 2, \\\"is_ESG\\\": \\\"no\\\"} \\\n",
    "                    \\nPlease Do not use markdown syntax for output results.\" % (time, company_name, document_title, time ,company_name, time, company_name)\n",
    "        \n",
    "        # add React framework\n",
    "        instruction = \"The ESG report title of %s for %s is \\\"%s\\\". Please refer to the above information to read the current document and answer the following questions: \\\n",
    "                        \\n\\t1. What is the title of the current document? \\\n",
    "                        \\n\\t2. Ignore the time in the title and give a similarity score between the given title and the current document title. The total score is 10 points, with 0 being the lowest and 10 being the highest. \\\n",
    "                        \\n\\t3. Ignore the time factor and rate the overlap between the current document and the provided title? The total score is 10 points, with 0 being the lowest and 10 being the highest. \\\n",
    "                        \\n\\t4. Based on the similarity between the current document title and the ESG report title for the %s of %s as well as the content of the current document, \\\n",
    "                            infer that  whether the ESG report framework used in the current document is consistent with the ESG report framework for the %s of %s? \\\n",
    "                            If so, please output the corporate entity and fiscal year of the document. If not, it is not necessary to output. \\\n",
    "                    \\nPlease output the above answer results in JSON format and do not use markdown syntax for output results.\\\n",
    "                    \\nYou can refer to the following output examples: \\\n",
    "                            \\n\\t1）{\\\"title\\\": \\\"xxx\\\", \\\"title_similarity\\\": 10, \\\"similarity\\\": 10, \\\"is_ESG\\\": \\\"yes\\\", \\\"corporate_entity\\\": \\\"xxxx\\\", \\\"fiscal_year\\\": \\\"xxxx\\\"} \\\n",
    "                            \\n\\t2）{\\\"title\\\": \\\"xxx\\\", \\\"title_similarity\\\": 3, \\\"similarity\\\": 2, \\\"is_ESG\\\": \\\"no\\\"} \\\n",
    "                    \\nApproach this task step-by-step, take your time and do not skip steps.\"% (time, company_name, document_title, time ,company_name, time, company_name)\n",
    "        \n",
    "        instruction = \"The ESG report title for %s is \\\"%s\\\". Please refer to the above information to read the current document and answer the following questions: \\\n",
    "                        \\n\\t1. What is the title of the current document? \\\n",
    "                        \\n\\t2. Ignore the time in the title and give a similarity score between the given title and the current document title. The total score is 10 points, with 0 being the lowest and 10 being the highest. \\\n",
    "                        \\n\\t3. Ignore the time factor and rate the overlap between the current document and the provided title? The total score is 10 points, with 0 being the lowest and 10 being the highest. \\\n",
    "                        \\n\\t4. Based on the similarity between the current document title and the ESG report title for %s as well as the content of the current document, \\\n",
    "                            infer that  whether the ESG report framework used in the current document is consistent with the ESG report framework for %s? \\\n",
    "                            If so, please output the corporate entity and fiscal year of the document. If not, it is not necessary to output. \\\n",
    "                    \\nPlease output the above answer results in JSON format and do not use markdown syntax for output results.\\\n",
    "                    \\nYou can refer to the following output examples: \\\n",
    "                            \\n\\t1）{\\\"title\\\": \\\"xxx\\\", \\\"title_similarity\\\": 10, \\\"similarity\\\": 10, \\\"is_ESG\\\": \\\"yes\\\", \\\"corporate_entity\\\": \\\"xxxx\\\", \\\"fiscal_year\\\": \\\"xxxx\\\"} \\\n",
    "                            \\n\\t2）{\\\"title\\\": \\\"xxx\\\", \\\"title_similarity\\\": 3, \\\"similarity\\\": 2, \\\"is_ESG\\\": \\\"no\\\"} \\\n",
    "                    \\nApproach this task step-by-step, take your time and do not skip steps.\"% (company_name, document_title, company_name, company_name)\n",
    "\n",
    " \n",
    "        messages = [\n",
    "            {\n",
    "                \"role\": \"system\",\n",
    "                \"content\": \"You are an helpful assistant.\",\n",
    "            },\n",
    "            {\n",
    "                \"role\": \"system\", \n",
    "                \"content\": documents},\n",
    "            {\n",
    "                \"role\": \"user\", \n",
    "                \"content\": instruction},\n",
    "        ]\n",
    "\n",
    "    else:\n",
    "        raise ValueError(\"Invalid chat type\")\n",
    "\n",
    "    client = openai.AzureOpenAI(azure_endpoint=endpoint,\n",
    "                                api_key=api_key,\n",
    "                                api_version=api_version)\n",
    "    \n",
    "    try:\n",
    "        chat_completion = client.chat.completions.create(\n",
    "            model=llm_model,\n",
    "            messages=messages\n",
    "        )\n",
    "\n",
    "        result = chat_completion.choices[0].message.content\n",
    "\n",
    "    except Exception as e:\n",
    "        raise e\n",
    "\n",
    "    return result"
   ]
  },
  {
   "cell_type": "code",
   "execution_count": 10,
   "id": "00f0f335-9d89-4c3c-9066-7f960f96dda8",
   "metadata": {},
   "outputs": [],
   "source": [
    "with open(file=\"../resources/potential_markdown_directory_2023/Hilton-2022-Environmental-Social-and-Governance-Report.md\", mode=\"r\") as f:\n",
    "    documents = f.read()"
   ]
  },
  {
   "cell_type": "code",
   "execution_count": 11,
   "id": "250926be-59bd-4016-bee4-ae9f7d1d678e",
   "metadata": {},
   "outputs": [
    {
     "data": {
      "text/plain": [
       "'```json\\n{\\n  \"title\": \"Hilton 2022 Environmental, Social and Governance Report\",\\n  \"title_similarity\": 8,\\n  \"similarity\": 8,\\n  \"is_ESG\": \"yes\",\\n  \"corporate_entity\": \"Hilton\",\\n  \"fiscal_year\": \"2022\"\\n}\\n```'"
      ]
     },
     "execution_count": 11,
     "metadata": {},
     "output_type": "execute_result"
    }
   ],
   "source": [
    "llm_parser(\"assessment\", documents, company_name=\"Apple Inc.\", document_title=\"Apple’s 2022 ESG Report\", llm_model=\"gpt-4o\")\n"
   ]
  },
  {
   "cell_type": "code",
   "execution_count": 13,
   "id": "76a0e9fd-0774-4609-a8b0-5f6cbfe7557b",
   "metadata": {},
   "outputs": [],
   "source": [
    "import re\n",
    "json_str = '```json\\n{\\n  \"title\": \"Hilton 2022 Environmental, Social and Governance Report\",\\n  \"title_similarity\": 8,\\n  \"similarity\": 8,\\n  \"is_ESG\": \"yes\",\\n  \"corporate_entity\": \"Hilton\",\\n  \"fiscal_year\": \"2022\"\\n}\\n```'\n",
    "\n",
    "cleaned_str = re.sub(r'\\*\\*(.*?)\\*\\*', r'\\1', json_str)"
   ]
  },
  {
   "cell_type": "code",
   "execution_count": 14,
   "id": "3e666a50-ceb6-4e4d-8d0c-2d5edb43ad5c",
   "metadata": {},
   "outputs": [
    {
     "data": {
      "text/plain": [
       "'```json\\n{\\n  \"title\": \"Hilton 2022 Environmental, Social and Governance Report\",\\n  \"title_similarity\": 8,\\n  \"similarity\": 8,\\n  \"is_ESG\": \"yes\",\\n  \"corporate_entity\": \"Hilton\",\\n  \"fiscal_year\": \"2022\"\\n}\\n```'"
      ]
     },
     "execution_count": 14,
     "metadata": {},
     "output_type": "execute_result"
    }
   ],
   "source": [
    "cleaned_str"
   ]
  },
  {
   "cell_type": "code",
   "execution_count": null,
   "id": "6d2d7203-701f-4cb4-ab51-b87c9ff18ee9",
   "metadata": {},
   "outputs": [],
   "source": []
  }
 ],
 "metadata": {
  "kernelspec": {
   "display_name": "base",
   "language": "python",
   "name": "base"
  },
  "language_info": {
   "codemirror_mode": {
    "name": "ipython",
    "version": 3
   },
   "file_extension": ".py",
   "mimetype": "text/x-python",
   "name": "python",
   "nbconvert_exporter": "python",
   "pygments_lexer": "ipython3",
   "version": "3.9.13"
  }
 },
 "nbformat": 4,
 "nbformat_minor": 5
}
