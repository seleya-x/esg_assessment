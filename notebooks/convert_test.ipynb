{
 "cells": [
  {
   "cell_type": "code",
   "execution_count": 1,
   "id": "9318eec6-8d3c-4e26-bee8-ea8c325a4197",
   "metadata": {},
   "outputs": [],
   "source": [
    "import os\n",
    "import time\n",
    "import dotenv\n",
    "import asyncio\n",
    "import nest_asyncio\n",
    "import pdfplumber\n",
    "import pandas as pd\n",
    "from tqdm import tqdm\n",
    "from llama_parse import LlamaParse"
   ]
  },
  {
   "cell_type": "code",
   "execution_count": 17,
   "id": "ff417e7f-a499-497e-8dfe-e4f9766c46d9",
   "metadata": {},
   "outputs": [
    {
     "name": "stdout",
     "output_type": "stream",
     "text": [
      "Error while parsing the file './assets%2F2e5c7fb020194c1a8ee80f743d0b923e%2F691deadf7a574e9aa42dac530a66e965?alt=media&token=ab6b66a8-dd5c-4a12-9e46-3bd533ff3062&apiKey=2e5c7fb020194c1a8ee80f743d0b923e.pdf': [Errno 2] No such file or directory: './assets%2F2e5c7fb020194c1a8ee80f743d0b923e%2F691deadf7a574e9aa42dac530a66e965?alt=media&token=ab6b66a8-dd5c-4a12-9e46-3bd533ff3062&apiKey=2e5c7fb020194c1a8ee80f743d0b923e.pdf'\n"
     ]
    }
   ],
   "source": [
    "llama_cloud_api_key = \"llx-Pd9FqzqbITfp7KXpB0YHWngqXK4GWZvB5BSAf9IoiNDBeie4\"\n",
    "\n",
    "parser = LlamaParse(api_key=llama_cloud_api_key, result_type=\"markdown\")\n",
    "\n",
    "# ../resources/potential_intercepted_origin_pdf_directory_2023/fileDownload?type=041&filename=041___1715912881607-238.pdf&rname=2023_social_impact_and_sustainability_report.pdf\n",
    "\n",
    "documents = await parser.aload_data(\"./assets%2F2e5c7fb020194c1a8ee80f743d0b923e%2F691deadf7a574e9aa42dac530a66e965?alt=media&token=ab6b66a8-dd5c-4a12-9e46-3bd533ff3062&apiKey=2e5c7fb020194c1a8ee80f743d0b923e.pdf\")\n"
   ]
  },
  {
   "cell_type": "code",
   "execution_count": 15,
   "id": "e7ad71cb-73c2-47ab-b6d3-6091454c3a49",
   "metadata": {},
   "outputs": [
    {
     "ename": "IndexError",
     "evalue": "list index out of range",
     "output_type": "error",
     "traceback": [
      "\u001b[0;31m---------------------------------------------------------------------------\u001b[0m",
      "\u001b[0;31mIndexError\u001b[0m                                Traceback (most recent call last)",
      "\u001b[0;32m/tmp/ipykernel_1205380/1712863715.py\u001b[0m in \u001b[0;36m<module>\u001b[0;34m\u001b[0m\n\u001b[0;32m----> 1\u001b[0;31m \u001b[0mdocuments\u001b[0m\u001b[0;34m[\u001b[0m\u001b[0;36m0\u001b[0m\u001b[0;34m]\u001b[0m\u001b[0;34m.\u001b[0m\u001b[0mtext\u001b[0m\u001b[0;34m\u001b[0m\u001b[0;34m\u001b[0m\u001b[0m\n\u001b[0m",
      "\u001b[0;31mIndexError\u001b[0m: list index out of range"
     ]
    }
   ],
   "source": [
    "documents[0].text"
   ]
  },
  {
   "cell_type": "code",
   "execution_count": null,
   "id": "6e5660e2-1bd8-4c53-93d6-49ce3eb1a3e1",
   "metadata": {},
   "outputs": [],
   "source": []
  }
 ],
 "metadata": {
  "kernelspec": {
   "display_name": "base",
   "language": "python",
   "name": "base"
  },
  "language_info": {
   "codemirror_mode": {
    "name": "ipython",
    "version": 3
   },
   "file_extension": ".py",
   "mimetype": "text/x-python",
   "name": "python",
   "nbconvert_exporter": "python",
   "pygments_lexer": "ipython3",
   "version": "3.9.13"
  }
 },
 "nbformat": 4,
 "nbformat_minor": 5
}
