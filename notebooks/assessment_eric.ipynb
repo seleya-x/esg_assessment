{
 "cells": [
  {
   "cell_type": "code",
   "execution_count": 5,
   "id": "062d2d2d-872c-4a62-903f-7c9f4211920c",
   "metadata": {
    "tags": []
   },
   "outputs": [
    {
     "name": "stderr",
     "output_type": "stream",
     "text": [
      "/home/liyu/workshop/LLM/seleya/esg_assessment/notebooks/../src/extract_assessment.py:195: SyntaxWarning: \"is\" with a literal. Did you mean \"==\"?\n",
      "  if file_name_last_year is \"nan\":\n"
     ]
    },
    {
     "data": {
      "text/plain": [
       "True"
      ]
     },
     "execution_count": 5,
     "metadata": {},
     "output_type": "execute_result"
    }
   ],
   "source": [
    "import sys\n",
    "sys.path.append(\"../\")\n",
    "import os\n",
    "import json\n",
    "import openai\n",
    "import dotenv\n",
    "import pandas as pd\n",
    "from src.extract_assessment import llm_parser\n",
    "\n",
    "dotenv.load_dotenv(\"../src/.env\")\n",
    "\n"
   ]
  },
  {
   "cell_type": "code",
   "execution_count": 6,
   "id": "2d1ceddf-56ae-4b82-8a23-4a9d2ffdf30a",
   "metadata": {
    "tags": []
   },
   "outputs": [],
   "source": [
    "endpoint = os.environ.get(\"OPENAI_API_ENDPOINT\")\n",
    "api_key = os.environ.get(\"OPENAI_API_KEY\")\n",
    "api_version = os.environ.get(\"OPENAI_API_VERSION\")\n",
    "api_type = os.environ.get(\"OPENAI_API_TYPE\")"
   ]
  },
  {
   "cell_type": "code",
   "execution_count": 20,
   "id": "26feaf60-19bc-4ec1-920d-c2f5c3daa21f",
   "metadata": {
    "tags": []
   },
   "outputs": [],
   "source": [
    "def llm_parser(chat_type:str, \n",
    "               documents:str, \n",
    "               time:str=None, \n",
    "               company_name:str=None, \n",
    "               document_title:str=None,\n",
    "               llm_model:str=\"gpt-4o\"):\n",
    "\n",
    "    if chat_type == \"title_extraction\":\n",
    "        instruction = \"The following is a document written by a company. The document is written in markdown format. Please provide the title, corporate entity and fiscal year of the document.Please output the above answer with the JSON format:{\\\"title\\\":\\\"xxxx\\\", \\\"corporate_entity\\\": \\\"xxxx\\\", \\\"fiscal_year\\\": \\\"xxxx\\\"} \\\n",
    "                        \\nPlease output the above answer results in JSON string and no need to use markdown syntax to encapsulate JSON string into Code Block.\"\n",
    "    \n",
    "        messages = [\n",
    "            {\n",
    "                \"role\": \"system\",\n",
    "                \"content\": \"You are an artificial intelligence assistant, and you are better at Chinese and English conversations. You will provide users with safe, helpful, and accurate answers. At the same time, you will reject all answers related to terrorism, racial discrimination, yellow violence, and other issues.\",\n",
    "            },\n",
    "            {\n",
    "                \"role\": \"system\", \n",
    "                \"content\": documents},\n",
    "            {\n",
    "                \"role\": \"user\", \n",
    "                \"content\": instruction},\n",
    "        ]\n",
    "\n",
    "    elif chat_type == \"assessment\":\n",
    "        instruction = \"The ESG report title for %s is \\\"%s\\\". Please refer to the above information to read the current document and answer the following questions: \\\n",
    "                        \\n\\t1. What is the title of the current document? \\\n",
    "                        \\n\\t2. Verify if the document's company entity is the same company as %s\\\n",
    "                        \\n\\t3. Ignore the time in the title and give a similarity score between the given title and the current document title. The total score is 10 points, with 0 being the lowest and 10 being the highest. \\\n",
    "                        \\n\\t4. Ignore the time factor and rate the overlap between the current document and the provided title? The total score is 10 points, with 0 being the lowest and 10 being the highest. \\\n",
    "                        \\n\\t5. Based on the similarity between the current document title and the ESG report title for %s as well as the content of the current document, \\\n",
    "                            infer that  whether the ESG report framework used in the current document is consistent with the ESG report framework for %s? \\\n",
    "                            If so, please output the corporate entity and fiscal year of the document. If not, it is not necessary to output. \\\n",
    "                    \\nPlease output the above answer results in JSON string and no need to use markdown syntax to encapsulate JSON string into Code Block.\\\n",
    "                    \\nYou can refer to the following output examples: \\\n",
    "                            \\n\\t1）{\\\"title\\\": \\\"xxx\\\", \\\"company_match\\\": yes,\\\"title_similarity\\\": 10, \\\"similarity\\\": 10, \\\"is_ESG\\\": \\\"yes\\\", \\\"corporate_entity\\\": \\\"xxxx\\\", \\\"fiscal_year\\\": \\\"xxxx\\\"} \\\n",
    "                            \\n\\t2）{\\\"title\\\": \\\"xxx\\\", \\\"company_match\\\": no,\\\"title_similarity\\\": 3, \\\"similarity\\\": 2, \\\"is_ESG\\\": \\\"no\\\"}\"% (company_name, document_title, company_name, company_name, company_name)\n",
    " \n",
    "        messages = [\n",
    "            {\n",
    "                \"role\": \"system\",\n",
    "                \"content\": \"You are an helpful assistant.\",\n",
    "            },\n",
    "            {\n",
    "                \"role\": \"system\", \n",
    "                \"content\": documents},\n",
    "            {\n",
    "                \"role\": \"user\", \n",
    "                \"content\": instruction},\n",
    "        ]\n",
    "\n",
    "    else:\n",
    "        raise ValueError(\"Invalid chat type\")\n",
    "\n",
    "    client = openai.AzureOpenAI(azure_endpoint=endpoint,\n",
    "                                api_key=api_key,\n",
    "                                api_version=api_version)\n",
    "    \n",
    "    try:\n",
    "        chat_completion = client.chat.completions.create(\n",
    "            model=llm_model,\n",
    "            messages=messages\n",
    "        )\n",
    "\n",
    "        result = chat_completion.choices[0].message.content\n",
    "\n",
    "    except Exception as e:\n",
    "        raise e\n",
    "\n",
    "    return result"
   ]
  },
  {
   "cell_type": "code",
   "execution_count": 21,
   "id": "00f0f335-9d89-4c3c-9066-7f960f96dda8",
   "metadata": {
    "tags": []
   },
   "outputs": [],
   "source": [
    "with open(file=\"../resources/eric_md/000080.KS_FY2023_Sustainability Report 2023.md\", mode=\"r\") as f:\n",
    "    documents = f.read()\n",
    "    "
   ]
  },
  {
   "cell_type": "code",
   "execution_count": 22,
   "id": "b9d05a89-8927-4f27-acfd-80dd26503a5c",
   "metadata": {},
   "outputs": [
    {
     "data": {
      "text/plain": [
       "'# HITEJINRO SUSTAINABILITY REPORT 2023\\n\\nWE BREW HEALTHY TOMORROW\\n---\\nWe Brew Healthy Tomorrow\\n\\nHITEJ'"
      ]
     },
     "execution_count": 22,
     "metadata": {},
     "output_type": "execute_result"
    }
   ],
   "source": [
    "documents[:100]"
   ]
  },
  {
   "cell_type": "code",
   "execution_count": 23,
   "id": "250926be-59bd-4016-bee4-ae9f7d1d678e",
   "metadata": {
    "tags": []
   },
   "outputs": [],
   "source": [
    "res1 = llm_parser(\"title_extraction\", documents, llm_model=\"gpt-4o\")"
   ]
  },
  {
   "cell_type": "code",
   "execution_count": 24,
   "id": "76a0e9fd-0774-4609-a8b0-5f6cbfe7557b",
   "metadata": {
    "tags": []
   },
   "outputs": [
    {
     "data": {
      "text/plain": [
       "'{\"title\": \"HITEJINRO Sustainability Report 2023\", \"corporate_entity\": \"HITEJINRO Co., Ltd.\", \"fiscal_year\": \"2022\"}'"
      ]
     },
     "execution_count": 24,
     "metadata": {},
     "output_type": "execute_result"
    }
   ],
   "source": [
    "res1"
   ]
  },
  {
   "cell_type": "code",
   "execution_count": 25,
   "id": "6d2d7203-701f-4cb4-ab51-b87c9ff18ee9",
   "metadata": {
    "tags": []
   },
   "outputs": [
    {
     "data": {
      "text/plain": [
       "{'title': 'HITEJINRO Sustainability Report 2023',\n",
       " 'corporate_entity': 'HITEJINRO Co., Ltd.',\n",
       " 'fiscal_year': '2022'}"
      ]
     },
     "execution_count": 25,
     "metadata": {},
     "output_type": "execute_result"
    }
   ],
   "source": [
    "json.loads(res1)"
   ]
  },
  {
   "cell_type": "code",
   "execution_count": null,
   "id": "b08d0993-18af-4978-9044-6b1c2f9847ce",
   "metadata": {},
   "outputs": [],
   "source": [
    "input_pdf_path = \"../resources/eric_md\"\n",
    "download_info = pd.read_excel(\"../resources/new_reports_240607.xlsx\")\n",
    "\n",
    "file_list = os.listdir(input_pdf_path)\n",
    "index = 0\n",
    "\n",
    "download_info[\"title\"] = None\n",
    "download_info[\"corporate_entity\"] = None\n",
    "download_info[\"fiscal_year\"] = None\n",
    "\n",
    "for i in range(len(download_info)):\n",
    "    blob_name = download_info[\"path\"][i]\n",
    "    file_name = blob_name.split(\"/\")[-1]\n",
    "    file_name = file_name.replace(\".pdf\", \".md\")\n",
    "    if file_name in file_list:\n",
    "        with open(file=os.path.join(input_pdf_path, file_name), mode=\"r\") as f:\n",
    "            documents = f.read()\n",
    "        try:\n",
    "            res1 = llm_parser(\"title_extraction\", documents, llm_model=\"gpt-4o\")\n",
    "            res_json = json.loads(res1)\n",
    "            download_info.loc[i, \"title\"] = res_json[\"title\"]\n",
    "            download_info.loc[i, \"corporate_entity\"] = res_json[\"corporate_entity\"]\n",
    "            download_info.loc[i, \"fiscal_year\"] = res_json[\"fiscal_year\"]\n",
    "            download_info.loc[i, \"parser_info\"] = \"success\"\n",
    "        except Exception as e:\n",
    "            download_info.loc[i, \"parser_info\"] = e\n",
    "\n",
    "            \n",
    "download_info.to_csv(\"../resources/new_reports_240607.csv\")\n"
   ]
  },
  {
   "cell_type": "code",
   "execution_count": null,
   "id": "b755c977-6da8-4cbc-9e83-802490288a62",
   "metadata": {},
   "outputs": [],
   "source": []
  }
 ],
 "metadata": {
  "kernelspec": {
   "display_name": "base",
   "language": "python",
   "name": "base"
  },
  "language_info": {
   "codemirror_mode": {
    "name": "ipython",
    "version": 3
   },
   "file_extension": ".py",
   "mimetype": "text/x-python",
   "name": "python",
   "nbconvert_exporter": "python",
   "pygments_lexer": "ipython3",
   "version": "3.9.13"
  }
 },
 "nbformat": 4,
 "nbformat_minor": 5
}
